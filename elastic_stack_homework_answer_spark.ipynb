{
 "cells": [
  {
   "cell_type": "code",
   "execution_count": 1,
   "metadata": {},
   "outputs": [],
   "source": [
    "# Go to terminal and run source ~/venvspark/bin/activate; pip install elasticsearch==7.9.0"
   ]
  },
  {
   "cell_type": "code",
   "execution_count": 1,
   "metadata": {},
   "outputs": [],
   "source": [
    "import findspark\n",
    "import warnings\n",
    "import pandas as pd\n",
    "warnings.filterwarnings('ignore')\n",
    "from elasticsearch import Elasticsearch, helpers\n",
    "import time\n",
    "pd.set_option('display.max_columns', None)\n",
    "pd.set_option('display.max_rows', None)"
   ]
  },
  {
   "cell_type": "code",
   "execution_count": 2,
   "metadata": {},
   "outputs": [],
   "source": [
    "findspark.init(\"/opt/manual/spark\")"
   ]
  },
  {
   "cell_type": "code",
   "execution_count": 3,
   "metadata": {},
   "outputs": [],
   "source": [
    "from pyspark.sql import SparkSession, functions as F"
   ]
  },
  {
   "cell_type": "code",
   "execution_count": 4,
   "metadata": {},
   "outputs": [
    {
     "name": "stderr",
     "output_type": "stream",
     "text": [
      "WARNING: An illegal reflective access operation has occurred\n",
      "WARNING: Illegal reflective access by org.apache.spark.unsafe.Platform (file:/opt/manual/spark-3.1.1-bin-hadoop3.2/jars/spark-unsafe_2.12-3.1.1.jar) to constructor java.nio.DirectByteBuffer(long,int)\n",
      "WARNING: Please consider reporting this to the maintainers of org.apache.spark.unsafe.Platform\n",
      "WARNING: Use --illegal-access=warn to enable warnings of further illegal reflective access operations\n",
      "WARNING: All illegal access operations will be denied in a future release\n"
     ]
    },
    {
     "name": "stdout",
     "output_type": "stream",
     "text": [
      ":: loading settings :: url = jar:file:/opt/manual/spark-3.1.1-bin-hadoop3.2/jars/ivy-2.4.0.jar!/org/apache/ivy/core/settings/ivysettings.xml\n"
     ]
    },
    {
     "name": "stderr",
     "output_type": "stream",
     "text": [
      "Ivy Default Cache set to: /home/train/.ivy2/cache\n",
      "The jars for the packages stored in: /home/train/.ivy2/jars\n",
      "org.elasticsearch#elasticsearch-spark-30_2.12 added as a dependency\n",
      ":: resolving dependencies :: org.apache.spark#spark-submit-parent-bfecd6da-8aa5-42c4-9751-d1caf6137246;1.0\n",
      "\tconfs: [default]\n",
      "\tfound org.elasticsearch#elasticsearch-spark-30_2.12;7.12.1 in central\n",
      "\tfound org.scala-lang#scala-reflect;2.12.8 in central\n",
      "\tfound org.slf4j#slf4j-api;1.7.6 in local-m2-cache\n",
      "\tfound commons-logging#commons-logging;1.1.1 in local-m2-cache\n",
      "\tfound javax.xml.bind#jaxb-api;2.3.1 in central\n",
      "\tfound com.google.protobuf#protobuf-java;2.5.0 in local-m2-cache\n",
      "\tfound org.apache.spark#spark-yarn_2.12;3.0.1 in central\n",
      ":: resolution report :: resolve 1160ms :: artifacts dl 16ms\n",
      "\t:: modules in use:\n",
      "\tcom.google.protobuf#protobuf-java;2.5.0 from local-m2-cache in [default]\n",
      "\tcommons-logging#commons-logging;1.1.1 from local-m2-cache in [default]\n",
      "\tjavax.xml.bind#jaxb-api;2.3.1 from central in [default]\n",
      "\torg.apache.spark#spark-yarn_2.12;3.0.1 from central in [default]\n",
      "\torg.elasticsearch#elasticsearch-spark-30_2.12;7.12.1 from central in [default]\n",
      "\torg.scala-lang#scala-reflect;2.12.8 from central in [default]\n",
      "\torg.slf4j#slf4j-api;1.7.6 from local-m2-cache in [default]\n",
      "\t---------------------------------------------------------------------\n",
      "\t|                  |            modules            ||   artifacts   |\n",
      "\t|       conf       | number| search|dwnlded|evicted|| number|dwnlded|\n",
      "\t---------------------------------------------------------------------\n",
      "\t|      default     |   7   |   0   |   0   |   0   ||   1   |   0   |\n",
      "\t---------------------------------------------------------------------\n",
      ":: retrieving :: org.apache.spark#spark-submit-parent-bfecd6da-8aa5-42c4-9751-d1caf6137246\n",
      "\tconfs: [default]\n",
      "\t0 artifacts copied, 1 already retrieved (0kB/23ms)\n",
      "2022-10-23 06:07:09,411 WARN util.NativeCodeLoader: Unable to load native-hadoop library for your platform... using builtin-java classes where applicable\n",
      "Setting default log level to \"WARN\".\n",
      "To adjust logging level use sc.setLogLevel(newLevel). For SparkR, use setLogLevel(newLevel).\n"
     ]
    }
   ],
   "source": [
    "spark = (\n",
    "    SparkSession.builder\n",
    "    .appName(\"Spark Elasticsearch\")\n",
    "    .master(\"local[2]\")\n",
    "    .config(\"spark.driver.memory\",\"2048m\")\n",
    "    .config(\"spark.sql.shuffle.partitions\", 4)\n",
    "    .config(\"spark.serializer\", \"org.apache.spark.serializer.KryoSerializer\")\n",
    "    .config(\"spark.jars.packages\", \"org.elasticsearch:elasticsearch-spark-30_2.12:7.12.1\") \n",
    "    .getOrCreate()\n",
    ")"
   ]
  },
  {
   "cell_type": "code",
   "execution_count": 5,
   "metadata": {},
   "outputs": [],
   "source": [
    "# ! wget -O ~/datasets/housing.csv https://raw.githubusercontent.com/erkansirin78/datasets/master/housing.csv"
   ]
  },
  {
   "cell_type": "code",
   "execution_count": 6,
   "metadata": {},
   "outputs": [
    {
     "name": "stderr",
     "output_type": "stream",
     "text": [
      "                                                                                \r"
     ]
    }
   ],
   "source": [
    "df = spark.read.format(\"csv\") \\\n",
    ".option(\"header\", True) \\\n",
    ".option(\"inferSchema\", True) \\\n",
    ".option(\"sep\", \";\") \\\n",
    ".load(\"file:///home/train/datasets/market1mil.csv.gz\") \\\n",
    ".select(\"LOGICALREF\", \"ITEMCODE\", \"ITEMNAME\", \"AMOUNT\", \"PRICE\", \"LINENETTOTAL\", \"BRANCH\", \"CITY\", \"BRAND\", \"STARTDATE\", \"LONGITUDE\",\"LATITUDE\") \\\n",
    ".cache()"
   ]
  },
  {
   "cell_type": "code",
   "execution_count": 7,
   "metadata": {},
   "outputs": [
    {
     "name": "stderr",
     "output_type": "stream",
     "text": [
      "                                                                                \r"
     ]
    },
    {
     "data": {
      "text/html": [
       "<div>\n",
       "<style scoped>\n",
       "    .dataframe tbody tr th:only-of-type {\n",
       "        vertical-align: middle;\n",
       "    }\n",
       "\n",
       "    .dataframe tbody tr th {\n",
       "        vertical-align: top;\n",
       "    }\n",
       "\n",
       "    .dataframe thead th {\n",
       "        text-align: right;\n",
       "    }\n",
       "</style>\n",
       "<table border=\"1\" class=\"dataframe\">\n",
       "  <thead>\n",
       "    <tr style=\"text-align: right;\">\n",
       "      <th></th>\n",
       "      <th>LOGICALREF</th>\n",
       "      <th>ITEMCODE</th>\n",
       "      <th>ITEMNAME</th>\n",
       "      <th>AMOUNT</th>\n",
       "      <th>PRICE</th>\n",
       "      <th>LINENETTOTAL</th>\n",
       "      <th>BRANCH</th>\n",
       "      <th>CITY</th>\n",
       "      <th>BRAND</th>\n",
       "      <th>STARTDATE</th>\n",
       "      <th>LONGITUDE</th>\n",
       "      <th>LATITUDE</th>\n",
       "    </tr>\n",
       "  </thead>\n",
       "  <tbody>\n",
       "    <tr>\n",
       "      <th>0</th>\n",
       "      <td>1</td>\n",
       "      <td>8</td>\n",
       "      <td>TOZ SEKER</td>\n",
       "      <td>45</td>\n",
       "      <td>2,65</td>\n",
       "      <td>5,3</td>\n",
       "      <td>Batman Subesi</td>\n",
       "      <td>Batman</td>\n",
       "      <td>None</td>\n",
       "      <td>3.01.2017 09:25</td>\n",
       "      <td>41,1351</td>\n",
       "      <td>37,8812</td>\n",
       "    </tr>\n",
       "    <tr>\n",
       "      <th>1</th>\n",
       "      <td>2</td>\n",
       "      <td>20868</td>\n",
       "      <td>KIRMIZI MERCIMEK</td>\n",
       "      <td>1,006</td>\n",
       "      <td>2,8</td>\n",
       "      <td>2,82</td>\n",
       "      <td>Batman Subesi</td>\n",
       "      <td>Batman</td>\n",
       "      <td>BAKLİYAT</td>\n",
       "      <td>3.01.2017 09:25</td>\n",
       "      <td>41,1351</td>\n",
       "      <td>37,8812</td>\n",
       "    </tr>\n",
       "    <tr>\n",
       "      <th>2</th>\n",
       "      <td>3</td>\n",
       "      <td>8583</td>\n",
       "      <td>TEST MATIK 1,5 KG NORMAL</td>\n",
       "      <td>1</td>\n",
       "      <td>4,95</td>\n",
       "      <td>4,95</td>\n",
       "      <td>Batman Subesi</td>\n",
       "      <td>Batman</td>\n",
       "      <td>TEST</td>\n",
       "      <td>3.01.2017 09:25</td>\n",
       "      <td>41,1351</td>\n",
       "      <td>37,8812</td>\n",
       "    </tr>\n",
       "    <tr>\n",
       "      <th>3</th>\n",
       "      <td>4</td>\n",
       "      <td>1454</td>\n",
       "      <td>BIZIM MAKARNA BONCUK</td>\n",
       "      <td>1</td>\n",
       "      <td>1,1</td>\n",
       "      <td>1,1</td>\n",
       "      <td>Batman Subesi</td>\n",
       "      <td>Batman</td>\n",
       "      <td>ÜLKER</td>\n",
       "      <td>3.01.2017 09:25</td>\n",
       "      <td>41,1351</td>\n",
       "      <td>37,8812</td>\n",
       "    </tr>\n",
       "    <tr>\n",
       "      <th>4</th>\n",
       "      <td>5</td>\n",
       "      <td>13519</td>\n",
       "      <td>FILIZ MAKARNA KISA KESME 500 GR</td>\n",
       "      <td>1</td>\n",
       "      <td>1,1</td>\n",
       "      <td>1,1</td>\n",
       "      <td>Batman Subesi</td>\n",
       "      <td>Batman</td>\n",
       "      <td>FİLİZ</td>\n",
       "      <td>3.01.2017 09:25</td>\n",
       "      <td>41,1351</td>\n",
       "      <td>37,8812</td>\n",
       "    </tr>\n",
       "  </tbody>\n",
       "</table>\n",
       "</div>"
      ],
      "text/plain": [
       "  LOGICALREF  ITEMCODE                         ITEMNAME AMOUNT PRICE  \\\n",
       "0          1         8                        TOZ SEKER     45  2,65   \n",
       "1          2     20868                 KIRMIZI MERCIMEK  1,006   2,8   \n",
       "2          3      8583         TEST MATIK 1,5 KG NORMAL      1  4,95   \n",
       "3          4      1454             BIZIM MAKARNA BONCUK      1   1,1   \n",
       "4          5     13519  FILIZ MAKARNA KISA KESME 500 GR      1   1,1   \n",
       "\n",
       "  LINENETTOTAL         BRANCH    CITY     BRAND        STARTDATE LONGITUDE  \\\n",
       "0          5,3  Batman Subesi  Batman      None  3.01.2017 09:25   41,1351   \n",
       "1         2,82  Batman Subesi  Batman  BAKLİYAT  3.01.2017 09:25   41,1351   \n",
       "2         4,95  Batman Subesi  Batman      TEST  3.01.2017 09:25   41,1351   \n",
       "3          1,1  Batman Subesi  Batman     ÜLKER  3.01.2017 09:25   41,1351   \n",
       "4          1,1  Batman Subesi  Batman     FİLİZ  3.01.2017 09:25   41,1351   \n",
       "\n",
       "  LATITUDE  \n",
       "0  37,8812  \n",
       "1  37,8812  \n",
       "2  37,8812  \n",
       "3  37,8812  \n",
       "4  37,8812  "
      ]
     },
     "execution_count": 7,
     "metadata": {},
     "output_type": "execute_result"
    }
   ],
   "source": [
    "df.limit(5).toPandas()"
   ]
  },
  {
   "cell_type": "code",
   "execution_count": 8,
   "metadata": {},
   "outputs": [
    {
     "name": "stderr",
     "output_type": "stream",
     "text": [
      "                                                                                \r"
     ]
    },
    {
     "data": {
      "text/plain": [
       "999853"
      ]
     },
     "execution_count": 8,
     "metadata": {},
     "output_type": "execute_result"
    }
   ],
   "source": [
    "df.count()"
   ]
  },
  {
   "cell_type": "code",
   "execution_count": 9,
   "metadata": {},
   "outputs": [],
   "source": [
    "# You can impute nulls as you wish. I prefer drop."
   ]
  },
  {
   "cell_type": "code",
   "execution_count": 10,
   "metadata": {},
   "outputs": [],
   "source": [
    "df1 = df.na.drop()"
   ]
  },
  {
   "cell_type": "code",
   "execution_count": 11,
   "metadata": {},
   "outputs": [
    {
     "name": "stderr",
     "output_type": "stream",
     "text": [
      "                                                                                \r"
     ]
    },
    {
     "data": {
      "text/plain": [
       "942431"
      ]
     },
     "execution_count": 11,
     "metadata": {},
     "output_type": "execute_result"
    }
   ],
   "source": [
    "df1.count()"
   ]
  },
  {
   "cell_type": "code",
   "execution_count": 12,
   "metadata": {},
   "outputs": [
    {
     "name": "stderr",
     "output_type": "stream",
     "text": [
      "[Stage 7:>                                                          (0 + 1) / 1]\r"
     ]
    },
    {
     "name": "stdout",
     "output_type": "stream",
     "text": [
      "+----------+--------+--------------------+------+-----+------------+-----------+----+-----+---------------+---------+--------+\n",
      "|LOGICALREF|ITEMCODE|            ITEMNAME|AMOUNT|PRICE|LINENETTOTAL|     BRANCH|CITY|BRAND|      STARTDATE|LONGITUDE|LATITUDE|\n",
      "+----------+--------+--------------------+------+-----+------------+-----------+----+-----+---------------+---------+--------+\n",
      "|       588|    1314|BIZIM MARGARIN 25...|     1| 1,65|        1,65|Ağrı Subesi|Ağrı|ÜLKER|3.01.2017 17:37| 43021596| 39,6269|\n",
      "+----------+--------+--------------------+------+-----+------------+-----------+----+-----+---------------+---------+--------+\n",
      "\n"
     ]
    },
    {
     "name": "stderr",
     "output_type": "stream",
     "text": [
      "                                                                                \r"
     ]
    }
   ],
   "source": [
    "df1.filter(\"LOGICALREF == '588'\").show()"
   ]
  },
  {
   "cell_type": "markdown",
   "metadata": {},
   "source": [
    "# Schema modification"
   ]
  },
  {
   "cell_type": "code",
   "execution_count": 13,
   "metadata": {},
   "outputs": [
    {
     "name": "stdout",
     "output_type": "stream",
     "text": [
      "root\n",
      " |-- LOGICALREF: string (nullable = true)\n",
      " |-- ITEMCODE: integer (nullable = true)\n",
      " |-- ITEMNAME: string (nullable = true)\n",
      " |-- AMOUNT: string (nullable = true)\n",
      " |-- PRICE: string (nullable = true)\n",
      " |-- LINENETTOTAL: string (nullable = true)\n",
      " |-- BRANCH: string (nullable = true)\n",
      " |-- CITY: string (nullable = true)\n",
      " |-- BRAND: string (nullable = true)\n",
      " |-- STARTDATE: string (nullable = true)\n",
      " |-- LONGITUDE: string (nullable = true)\n",
      " |-- LATITUDE: string (nullable = true)\n",
      "\n"
     ]
    }
   ],
   "source": [
    "df1.printSchema()"
   ]
  },
  {
   "cell_type": "code",
   "execution_count": 14,
   "metadata": {},
   "outputs": [],
   "source": [
    "from pyspark.sql.types import *"
   ]
  },
  {
   "cell_type": "code",
   "execution_count": 76,
   "metadata": {},
   "outputs": [],
   "source": [
    "df2 = df1 \\\n",
    ".withColumn(\"STARTDATE\",  F.unix_timestamp( F.to_timestamp(F.col(\"STARTDATE\"), \"d.MM.yyyy HH:mm\")) * 1000 ) \\\n",
    ".withColumn(\"LOGICALREF\", F.col(\"LOGICALREF\").cast(IntegerType())) \\\n",
    ".withColumn(\"ITEMCODE\", F.col(\"ITEMCODE\").cast(IntegerType())) \\\n",
    ".withColumn(\"AMOUNT\", F.regexp_replace(\"AMOUNT\", \",\", \".\").cast(FloatType())) \\\n",
    ".withColumn(\"PRICE\", F.regexp_replace(\"PRICE\", \",\", \".\").cast(FloatType())) \\\n",
    ".withColumn(\"LINENETTOTAL\", F.regexp_replace(\"LINENETTOTAL\", \",\", \".\").cast(FloatType())) \\\n",
    ".withColumn(\"LONGITUDE\", F.regexp_replace(\"LONGITUDE\", \",\", \".\").substr(1, 6).cast(FloatType())) \\\n",
    ".withColumn(\"LATITUDE\", F.regexp_replace(\"LATITUDE\", \",\", \".\").substr(1, 6).cast(FloatType())) \\\n",
    ".withColumn(\"LOCATION\", \n",
    "                   F.array(  F.col(\"LONGITUDE\"), F.col(\"LATITUDE\"))) \\\n",
    ".filter(\"LONGITUDE < 100\") # filter wrong longitude"
   ]
  },
  {
   "cell_type": "code",
   "execution_count": 77,
   "metadata": {},
   "outputs": [
    {
     "data": {
      "text/html": [
       "<div>\n",
       "<style scoped>\n",
       "    .dataframe tbody tr th:only-of-type {\n",
       "        vertical-align: middle;\n",
       "    }\n",
       "\n",
       "    .dataframe tbody tr th {\n",
       "        vertical-align: top;\n",
       "    }\n",
       "\n",
       "    .dataframe thead th {\n",
       "        text-align: right;\n",
       "    }\n",
       "</style>\n",
       "<table border=\"1\" class=\"dataframe\">\n",
       "  <thead>\n",
       "    <tr style=\"text-align: right;\">\n",
       "      <th></th>\n",
       "      <th>LOGICALREF</th>\n",
       "      <th>ITEMCODE</th>\n",
       "      <th>ITEMNAME</th>\n",
       "      <th>AMOUNT</th>\n",
       "      <th>PRICE</th>\n",
       "      <th>LINENETTOTAL</th>\n",
       "      <th>BRANCH</th>\n",
       "      <th>CITY</th>\n",
       "      <th>BRAND</th>\n",
       "      <th>STARTDATE</th>\n",
       "      <th>LONGITUDE</th>\n",
       "      <th>LATITUDE</th>\n",
       "      <th>LOCATION</th>\n",
       "    </tr>\n",
       "  </thead>\n",
       "  <tbody>\n",
       "    <tr>\n",
       "      <th>0</th>\n",
       "      <td>2</td>\n",
       "      <td>20868</td>\n",
       "      <td>KIRMIZI MERCIMEK</td>\n",
       "      <td>1.006</td>\n",
       "      <td>2.80</td>\n",
       "      <td>2.82</td>\n",
       "      <td>Batman Subesi</td>\n",
       "      <td>Batman</td>\n",
       "      <td>BAKLİYAT</td>\n",
       "      <td>1483424700000</td>\n",
       "      <td>41.134998</td>\n",
       "      <td>37.881001</td>\n",
       "      <td>[41.1349983215332, 37.88100051879883]</td>\n",
       "    </tr>\n",
       "    <tr>\n",
       "      <th>1</th>\n",
       "      <td>3</td>\n",
       "      <td>8583</td>\n",
       "      <td>TEST MATIK 1,5 KG NORMAL</td>\n",
       "      <td>1.000</td>\n",
       "      <td>4.95</td>\n",
       "      <td>4.95</td>\n",
       "      <td>Batman Subesi</td>\n",
       "      <td>Batman</td>\n",
       "      <td>TEST</td>\n",
       "      <td>1483424700000</td>\n",
       "      <td>41.134998</td>\n",
       "      <td>37.881001</td>\n",
       "      <td>[41.1349983215332, 37.88100051879883]</td>\n",
       "    </tr>\n",
       "    <tr>\n",
       "      <th>2</th>\n",
       "      <td>4</td>\n",
       "      <td>1454</td>\n",
       "      <td>BIZIM MAKARNA BONCUK</td>\n",
       "      <td>1.000</td>\n",
       "      <td>1.10</td>\n",
       "      <td>1.10</td>\n",
       "      <td>Batman Subesi</td>\n",
       "      <td>Batman</td>\n",
       "      <td>ÜLKER</td>\n",
       "      <td>1483424700000</td>\n",
       "      <td>41.134998</td>\n",
       "      <td>37.881001</td>\n",
       "      <td>[41.1349983215332, 37.88100051879883]</td>\n",
       "    </tr>\n",
       "    <tr>\n",
       "      <th>3</th>\n",
       "      <td>5</td>\n",
       "      <td>13519</td>\n",
       "      <td>FILIZ MAKARNA KISA KESME 500 GR</td>\n",
       "      <td>1.000</td>\n",
       "      <td>1.10</td>\n",
       "      <td>1.10</td>\n",
       "      <td>Batman Subesi</td>\n",
       "      <td>Batman</td>\n",
       "      <td>FİLİZ</td>\n",
       "      <td>1483424700000</td>\n",
       "      <td>41.134998</td>\n",
       "      <td>37.881001</td>\n",
       "      <td>[41.1349983215332, 37.88100051879883]</td>\n",
       "    </tr>\n",
       "    <tr>\n",
       "      <th>4</th>\n",
       "      <td>6</td>\n",
       "      <td>8639</td>\n",
       "      <td>BINGO ULTRA CAM.SUYU 750 ML KLASIK</td>\n",
       "      <td>1.000</td>\n",
       "      <td>2.45</td>\n",
       "      <td>2.45</td>\n",
       "      <td>Batman Subesi</td>\n",
       "      <td>Batman</td>\n",
       "      <td>BİNGO</td>\n",
       "      <td>1483424700000</td>\n",
       "      <td>41.134998</td>\n",
       "      <td>37.881001</td>\n",
       "      <td>[41.1349983215332, 37.88100051879883]</td>\n",
       "    </tr>\n",
       "  </tbody>\n",
       "</table>\n",
       "</div>"
      ],
      "text/plain": [
       "   LOGICALREF  ITEMCODE                            ITEMNAME  AMOUNT  PRICE  \\\n",
       "0           2     20868                    KIRMIZI MERCIMEK   1.006   2.80   \n",
       "1           3      8583            TEST MATIK 1,5 KG NORMAL   1.000   4.95   \n",
       "2           4      1454                BIZIM MAKARNA BONCUK   1.000   1.10   \n",
       "3           5     13519     FILIZ MAKARNA KISA KESME 500 GR   1.000   1.10   \n",
       "4           6      8639  BINGO ULTRA CAM.SUYU 750 ML KLASIK   1.000   2.45   \n",
       "\n",
       "   LINENETTOTAL         BRANCH    CITY     BRAND      STARTDATE  LONGITUDE  \\\n",
       "0          2.82  Batman Subesi  Batman  BAKLİYAT  1483424700000  41.134998   \n",
       "1          4.95  Batman Subesi  Batman      TEST  1483424700000  41.134998   \n",
       "2          1.10  Batman Subesi  Batman     ÜLKER  1483424700000  41.134998   \n",
       "3          1.10  Batman Subesi  Batman     FİLİZ  1483424700000  41.134998   \n",
       "4          2.45  Batman Subesi  Batman     BİNGO  1483424700000  41.134998   \n",
       "\n",
       "    LATITUDE                               LOCATION  \n",
       "0  37.881001  [41.1349983215332, 37.88100051879883]  \n",
       "1  37.881001  [41.1349983215332, 37.88100051879883]  \n",
       "2  37.881001  [41.1349983215332, 37.88100051879883]  \n",
       "3  37.881001  [41.1349983215332, 37.88100051879883]  \n",
       "4  37.881001  [41.1349983215332, 37.88100051879883]  "
      ]
     },
     "execution_count": 77,
     "metadata": {},
     "output_type": "execute_result"
    }
   ],
   "source": [
    "df2.limit(5).toPandas()"
   ]
  },
  {
   "cell_type": "code",
   "execution_count": 78,
   "metadata": {},
   "outputs": [
    {
     "name": "stdout",
     "output_type": "stream",
     "text": [
      "root\n",
      " |-- LOGICALREF: integer (nullable = true)\n",
      " |-- ITEMCODE: integer (nullable = true)\n",
      " |-- ITEMNAME: string (nullable = true)\n",
      " |-- AMOUNT: float (nullable = true)\n",
      " |-- PRICE: float (nullable = true)\n",
      " |-- LINENETTOTAL: float (nullable = true)\n",
      " |-- BRANCH: string (nullable = true)\n",
      " |-- CITY: string (nullable = true)\n",
      " |-- BRAND: string (nullable = true)\n",
      " |-- STARTDATE: long (nullable = true)\n",
      " |-- LONGITUDE: float (nullable = true)\n",
      " |-- LATITUDE: float (nullable = true)\n",
      " |-- LOCATION: array (nullable = false)\n",
      " |    |-- element: float (containsNull = true)\n",
      "\n"
     ]
    }
   ],
   "source": [
    "df2.printSchema()"
   ]
  },
  {
   "cell_type": "code",
   "execution_count": 86,
   "metadata": {},
   "outputs": [],
   "source": [
    "market_one_mil =  {\n",
    "  \"settings\": {\n",
    "    \"index\": {\n",
    "      \"analysis\": {\n",
    "        \"analyzer\": {\n",
    "          \"custom_analyzer\":\n",
    "          {\n",
    "            \"type\":\"custom\",\n",
    "            \"tokenizer\":\"standard\",\n",
    "            \"filter\":[\n",
    "              \"lowercase\", \"custom_edge_ngram\"\n",
    "            ]\n",
    "          }\n",
    "        },\n",
    "        \"filter\": {\n",
    "          \"custom_edge_ngram\": {\n",
    "            \"type\": \"edge_ngram\",\n",
    "            \"min_gram\":2,\n",
    "            \"max_gram\": 10\n",
    "            }\n",
    "          }\n",
    "        }\n",
    "      }\n",
    "    },\n",
    "    \"mappings\": {\n",
    "    \"properties\": {\n",
    "      \"LOGICALREF\":    { \"type\": \"integer\" },  \n",
    "      \"ITEMCODE\":  { \"type\": \"integer\"  }, \n",
    "      \"ITEMNAME\":   { \"type\": \"text\"  },\n",
    "      \"AMOUNT\": {\"type\": \"float\"},\n",
    "        \"PRICE\": {\"type\": \"float\"},\n",
    "        \"LINENETTOTAL\": {\"type\": \"float\"},\n",
    "         \"BRANCH\": {\"type\": \"keyword\"},\n",
    "         \"CITY\": {\"type\": \"keyword\"},\n",
    "         \"BRAND\": {\"type\": \"keyword\"},\n",
    "      \"STARTDATE\": {\n",
    "        \"type\":   \"date\"\n",
    "      },\n",
    "      \"LOCATION\": {\"type\": \"geo_point\"}\n",
    "        \n",
    "    }\n",
    "  }\n",
    "  }"
   ]
  },
  {
   "cell_type": "code",
   "execution_count": 87,
   "metadata": {},
   "outputs": [],
   "source": [
    "es = Elasticsearch()"
   ]
  },
  {
   "cell_type": "code",
   "execution_count": 88,
   "metadata": {},
   "outputs": [
    {
     "name": "stdout",
     "output_type": "stream",
     "text": [
      "market-one-mil  index deleted.\n"
     ]
    }
   ],
   "source": [
    "try:\n",
    "    es.indices.delete(\"market-one-mil\")\n",
    "    print(\"market-one-mil  index deleted.\")\n",
    "except:\n",
    "    print(\"No index\")"
   ]
  },
  {
   "cell_type": "code",
   "execution_count": 89,
   "metadata": {},
   "outputs": [
    {
     "data": {
      "text/plain": [
       "{'acknowledged': True, 'shards_acknowledged': True, 'index': 'market-one-mil'}"
      ]
     },
     "execution_count": 89,
     "metadata": {},
     "output_type": "execute_result"
    }
   ],
   "source": [
    "es.indices.create(\"market-one-mil\", body=market_one_mil)"
   ]
  },
  {
   "cell_type": "code",
   "execution_count": null,
   "metadata": {},
   "outputs": [],
   "source": []
  },
  {
   "cell_type": "markdown",
   "metadata": {},
   "source": [
    "# Write spark dataframe to Elasticseach"
   ]
  },
  {
   "cell_type": "code",
   "execution_count": 90,
   "metadata": {},
   "outputs": [
    {
     "name": "stderr",
     "output_type": "stream",
     "text": [
      "[Stage 37:>                                                         (0 + 1) / 1]\r"
     ]
    },
    {
     "name": "stdout",
     "output_type": "stream",
     "text": [
      "----- 148.13287997245789 secs -----\n"
     ]
    },
    {
     "name": "stderr",
     "output_type": "stream",
     "text": [
      "                                                                                \r"
     ]
    }
   ],
   "source": [
    "start_time = time.time()\n",
    "\n",
    "df2.drop(\"LONGITUDE\",\"LATITUDE\").write \\\n",
    "    .format(\"org.elasticsearch.spark.sql\") \\\n",
    "    .mode(\"overwrite\") \\\n",
    "    .option(\"es.nodes\", \"localhost\") \\\n",
    "    .option(\"es.port\",\"9200\") \\\n",
    "    .save(\"market-one-mil\")\n",
    "\n",
    "\n",
    "print(\"----- %s secs -----\" %(time.time() - start_time))"
   ]
  },
  {
   "cell_type": "markdown",
   "metadata": {},
   "source": [
    "# Read from ES with Spark"
   ]
  },
  {
   "cell_type": "code",
   "execution_count": 91,
   "metadata": {},
   "outputs": [],
   "source": [
    "df_es = spark.read \\\n",
    "    .format(\"org.elasticsearch.spark.sql\") \\\n",
    "    .option(\"es.nodes\", \"localhost\") \\\n",
    "    .option(\"es.port\",\"9200\") \\\n",
    "    .load(\"market-one-mil\")"
   ]
  },
  {
   "cell_type": "code",
   "execution_count": 92,
   "metadata": {},
   "outputs": [
    {
     "data": {
      "text/html": [
       "<div>\n",
       "<style scoped>\n",
       "    .dataframe tbody tr th:only-of-type {\n",
       "        vertical-align: middle;\n",
       "    }\n",
       "\n",
       "    .dataframe tbody tr th {\n",
       "        vertical-align: top;\n",
       "    }\n",
       "\n",
       "    .dataframe thead th {\n",
       "        text-align: right;\n",
       "    }\n",
       "</style>\n",
       "<table border=\"1\" class=\"dataframe\">\n",
       "  <thead>\n",
       "    <tr style=\"text-align: right;\">\n",
       "      <th></th>\n",
       "      <th>AMOUNT</th>\n",
       "      <th>BRANCH</th>\n",
       "      <th>BRAND</th>\n",
       "      <th>CITY</th>\n",
       "      <th>ITEMCODE</th>\n",
       "      <th>ITEMNAME</th>\n",
       "      <th>LINENETTOTAL</th>\n",
       "      <th>LOCATION</th>\n",
       "      <th>LOGICALREF</th>\n",
       "      <th>PRICE</th>\n",
       "      <th>STARTDATE</th>\n",
       "    </tr>\n",
       "  </thead>\n",
       "  <tbody>\n",
       "    <tr>\n",
       "      <th>0</th>\n",
       "      <td>0.775</td>\n",
       "      <td>İstanbul Subesi</td>\n",
       "      <td>HAL</td>\n",
       "      <td>İstanbul</td>\n",
       "      <td>5711</td>\n",
       "      <td>HAVUC</td>\n",
       "      <td>1.40</td>\n",
       "      <td>[28.977, 41.005]</td>\n",
       "      <td>20492</td>\n",
       "      <td>1.80</td>\n",
       "      <td>2017-01-09 18:36:00</td>\n",
       "    </tr>\n",
       "    <tr>\n",
       "      <th>1</th>\n",
       "      <td>1.000</td>\n",
       "      <td>İstanbul Subesi</td>\n",
       "      <td>KİNDER</td>\n",
       "      <td>İstanbul</td>\n",
       "      <td>7851</td>\n",
       "      <td>KINDER CIKOLATA 4LI 50GR</td>\n",
       "      <td>1.65</td>\n",
       "      <td>[28.977, 41.005]</td>\n",
       "      <td>20493</td>\n",
       "      <td>1.65</td>\n",
       "      <td>2017-01-09 18:40:00</td>\n",
       "    </tr>\n",
       "    <tr>\n",
       "      <th>2</th>\n",
       "      <td>1.000</td>\n",
       "      <td>İstanbul Subesi</td>\n",
       "      <td>ÜLKER</td>\n",
       "      <td>İstanbul</td>\n",
       "      <td>22878</td>\n",
       "      <td>ULKER 80GR BATON SUTLU 260-</td>\n",
       "      <td>0.99</td>\n",
       "      <td>[28.977, 41.005]</td>\n",
       "      <td>20494</td>\n",
       "      <td>0.99</td>\n",
       "      <td>2017-01-09 18:40:00</td>\n",
       "    </tr>\n",
       "    <tr>\n",
       "      <th>3</th>\n",
       "      <td>1.000</td>\n",
       "      <td>Afyonkarahisar Subesi</td>\n",
       "      <td>F SAFF</td>\n",
       "      <td>Afyonkarahisar</td>\n",
       "      <td>19121</td>\n",
       "      <td>F SAFF MENDIL CEP</td>\n",
       "      <td>0.20</td>\n",
       "      <td>[30.556, 38.75]</td>\n",
       "      <td>20495</td>\n",
       "      <td>0.20</td>\n",
       "      <td>2017-01-09 18:48:00</td>\n",
       "    </tr>\n",
       "    <tr>\n",
       "      <th>4</th>\n",
       "      <td>1.000</td>\n",
       "      <td>Afyonkarahisar Subesi</td>\n",
       "      <td>FANTA</td>\n",
       "      <td>Afyonkarahisar</td>\n",
       "      <td>3912</td>\n",
       "      <td>FANTA 1 LT PORTAKAL PET SISE</td>\n",
       "      <td>1.95</td>\n",
       "      <td>[30.556, 38.75]</td>\n",
       "      <td>20496</td>\n",
       "      <td>1.95</td>\n",
       "      <td>2017-01-09 18:48:00</td>\n",
       "    </tr>\n",
       "  </tbody>\n",
       "</table>\n",
       "</div>"
      ],
      "text/plain": [
       "   AMOUNT                 BRANCH    BRAND            CITY  ITEMCODE  \\\n",
       "0   0.775        İstanbul Subesi      HAL        İstanbul      5711   \n",
       "1   1.000        İstanbul Subesi   KİNDER        İstanbul      7851   \n",
       "2   1.000        İstanbul Subesi    ÜLKER        İstanbul     22878   \n",
       "3   1.000  Afyonkarahisar Subesi   F SAFF  Afyonkarahisar     19121   \n",
       "4   1.000  Afyonkarahisar Subesi    FANTA  Afyonkarahisar      3912   \n",
       "\n",
       "                       ITEMNAME  LINENETTOTAL          LOCATION  LOGICALREF  \\\n",
       "0                         HAVUC          1.40  [28.977, 41.005]       20492   \n",
       "1      KINDER CIKOLATA 4LI 50GR          1.65  [28.977, 41.005]       20493   \n",
       "2   ULKER 80GR BATON SUTLU 260-          0.99  [28.977, 41.005]       20494   \n",
       "3             F SAFF MENDIL CEP          0.20   [30.556, 38.75]       20495   \n",
       "4  FANTA 1 LT PORTAKAL PET SISE          1.95   [30.556, 38.75]       20496   \n",
       "\n",
       "   PRICE           STARTDATE  \n",
       "0   1.80 2017-01-09 18:36:00  \n",
       "1   1.65 2017-01-09 18:40:00  \n",
       "2   0.99 2017-01-09 18:40:00  \n",
       "3   0.20 2017-01-09 18:48:00  \n",
       "4   1.95 2017-01-09 18:48:00  "
      ]
     },
     "execution_count": 92,
     "metadata": {},
     "output_type": "execute_result"
    }
   ],
   "source": [
    "df_es.limit(5).toPandas()"
   ]
  },
  {
   "cell_type": "code",
   "execution_count": 93,
   "metadata": {},
   "outputs": [
    {
     "name": "stderr",
     "output_type": "stream",
     "text": [
      "[Stage 39:>                                                         (0 + 1) / 1]\r"
     ]
    },
    {
     "name": "stdout",
     "output_type": "stream",
     "text": [
      "+-------------------+-------------------+\n",
      "|     min(STARTDATE)|     max(STARTDATE)|\n",
      "+-------------------+-------------------+\n",
      "|2017-01-03 09:25:00|2017-05-25 21:00:00|\n",
      "+-------------------+-------------------+\n",
      "\n"
     ]
    },
    {
     "name": "stderr",
     "output_type": "stream",
     "text": [
      "                                                                                \r"
     ]
    }
   ],
   "source": [
    "df_es.selectExpr(\"MIN(STARTDATE)\",\"MAX(STARTDATE)\").show()"
   ]
  },
  {
   "cell_type": "code",
   "execution_count": 27,
   "metadata": {},
   "outputs": [
    {
     "name": "stdout",
     "output_type": "stream",
     "text": [
      "root\n",
      " |-- Country: string (nullable = true)\n",
      " |-- CustomerID: string (nullable = true)\n",
      " |-- Description: string (nullable = true)\n",
      " |-- InvoiceDate: timestamp (nullable = true)\n",
      " |-- InvoiceNo: string (nullable = true)\n",
      " |-- Quantity: integer (nullable = true)\n",
      " |-- StockCode: string (nullable = true)\n",
      " |-- TotalPrice: float (nullable = true)\n",
      " |-- UnitPrice: float (nullable = true)\n",
      "\n"
     ]
    }
   ],
   "source": [
    "df_es.printSchema()"
   ]
  },
  {
   "cell_type": "code",
   "execution_count": 29,
   "metadata": {},
   "outputs": [
    {
     "data": {
      "text/html": [
       "<div>\n",
       "<style scoped>\n",
       "    .dataframe tbody tr th:only-of-type {\n",
       "        vertical-align: middle;\n",
       "    }\n",
       "\n",
       "    .dataframe tbody tr th {\n",
       "        vertical-align: top;\n",
       "    }\n",
       "\n",
       "    .dataframe thead th {\n",
       "        text-align: right;\n",
       "    }\n",
       "</style>\n",
       "<table border=\"1\" class=\"dataframe\">\n",
       "  <thead>\n",
       "    <tr style=\"text-align: right;\">\n",
       "      <th></th>\n",
       "      <th>min(InvoiceDate)</th>\n",
       "      <th>max(InvoiceDate)</th>\n",
       "    </tr>\n",
       "  </thead>\n",
       "  <tbody>\n",
       "    <tr>\n",
       "      <th>0</th>\n",
       "      <td>2010-12-01 00:03:00</td>\n",
       "      <td>2011-12-09 11:59:00</td>\n",
       "    </tr>\n",
       "  </tbody>\n",
       "</table>\n",
       "</div>"
      ],
      "text/plain": [
       "     min(InvoiceDate)    max(InvoiceDate)\n",
       "0 2010-12-01 00:03:00 2011-12-09 11:59:00"
      ]
     },
     "execution_count": 29,
     "metadata": {},
     "output_type": "execute_result"
    }
   ],
   "source": [
    "df_es.selectExpr(\"MIN(InvoiceDate)\", \"MAX(InvoiceDate)\").limit(30).toPandas()"
   ]
  },
  {
   "cell_type": "code",
   "execution_count": 30,
   "metadata": {},
   "outputs": [
    {
     "data": {
      "text/plain": [
       "406829"
      ]
     },
     "execution_count": 30,
     "metadata": {},
     "output_type": "execute_result"
    }
   ],
   "source": [
    "df_es.count()"
   ]
  },
  {
   "cell_type": "code",
   "execution_count": 26,
   "metadata": {},
   "outputs": [],
   "source": [
    "spark.stop()"
   ]
  },
  {
   "cell_type": "code",
   "execution_count": null,
   "metadata": {},
   "outputs": [],
   "source": []
  }
 ],
 "metadata": {
  "kernelspec": {
   "display_name": "venvspark",
   "language": "python",
   "name": "venvspark"
  },
  "language_info": {
   "codemirror_mode": {
    "name": "ipython",
    "version": 3
   },
   "file_extension": ".py",
   "mimetype": "text/x-python",
   "name": "python",
   "nbconvert_exporter": "python",
   "pygments_lexer": "ipython3",
   "version": "3.8.12"
  }
 },
 "nbformat": 4,
 "nbformat_minor": 4
}
